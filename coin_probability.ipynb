{
 "cells": [
  {
   "cell_type": "code",
   "execution_count": 119,
   "metadata": {},
   "outputs": [],
   "source": [
    "import random"
   ]
  },
  {
   "cell_type": "code",
   "execution_count": 120,
   "metadata": {},
   "outputs": [],
   "source": [
    "def coin(): \n",
    "    \"\"\"\n",
    "    Returns result with probability=50%\n",
    "    \"\"\"\n",
    "    return 'O' if not random.randint(0, 1) else 'R'"
   ]
  },
  {
   "cell_type": "code",
   "execution_count": 121,
   "metadata": {},
   "outputs": [],
   "source": [
    "def biased_coin(p=0.5):\n",
    "    \"\"\"\n",
    "    Returns result with the explicitly given probability\n",
    "    \"\"\"\n",
    "    return 'O' if random.random() < p else 'R'"
   ]
  },
  {
   "cell_type": "code",
   "execution_count": 122,
   "metadata": {},
   "outputs": [],
   "source": [
    "def coin_flip(n:int):\n",
    "    \"\"\"\n",
    "    Return a list of results of coin flip\n",
    "    \"\"\"\n",
    "    return [coin() for _ in range(n)]"
   ]
  },
  {
   "cell_type": "code",
   "execution_count": 123,
   "metadata": {},
   "outputs": [],
   "source": [
    "def coin_flip_until_suc(r:int):\n",
    "    \"\"\"\n",
    "    Returns a total number of coin flips until specified success\n",
    "    \"\"\"\n",
    "    result = []\n",
    "    while True:\n",
    "        result.append(coin())\n",
    "        if result.count('O') == r:\n",
    "            break\n",
    "    return len(result)"
   ]
  },
  {
   "cell_type": "code",
   "execution_count": 124,
   "metadata": {},
   "outputs": [],
   "source": [
    "def coin_flip_double(player_1, player_2):\n",
    "    \"\"\"\n",
    "    Returns the winner \n",
    "    \"\"\"\n",
    "    result_1 = coin_flip_until_suc(player_1)\n",
    "    result_2 = coin_flip_until_suc(player_2)\n",
    "    if result_1 > result_2:\n",
    "        print('Player 2 wins')\n",
    "    elif result_1 < result_2:\n",
    "        print('Player 1 wins')\n",
    "    else:\n",
    "        print('Draw')"
   ]
  },
  {
   "cell_type": "code",
   "execution_count": 125,
   "metadata": {},
   "outputs": [],
   "source": [
    "def coin_flip_multiple(*argv):\n",
    "    \"\"\"\n",
    "    Returns an index of winner\n",
    "    \"\"\"\n",
    "    results = [coin_flip_until_suc(arg) for arg in argv]\n",
    "    winner = [index for index, i in enumerate(results) if i == min(results)]\n",
    "    print(*winner, sep='\\n')"
   ]
  }
 ],
 "metadata": {
  "kernelspec": {
   "display_name": "Python 3",
   "language": "python",
   "name": "python3"
  },
  "language_info": {
   "codemirror_mode": {
    "name": "ipython",
    "version": 3
   },
   "file_extension": ".py",
   "mimetype": "text/x-python",
   "name": "python",
   "nbconvert_exporter": "python",
   "pygments_lexer": "ipython3",
   "version": "3.7.6"
  }
 },
 "nbformat": 4,
 "nbformat_minor": 4
}
